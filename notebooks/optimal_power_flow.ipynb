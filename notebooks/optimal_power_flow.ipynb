{
 "cells": [
  {
   "cell_type": "markdown",
   "metadata": {},
   "source": [
    "## Optimal Power Flow\n",
    "\n",
    "A power flow is an operation done on an electrical grid **circuit**, a graph network with buses as nodes and either transmission lines or transformers as edges. \n",
    "In reality AC lines come in multiples of three, with each line transmitting one of three phases. In practice we can assume that the power of each phase is equivalent and we can model a single three-phase line for each transmission edge.  \n",
    "Each bus is either a **generator** that injects power or a **load** that consumes power. \n",
    "It is assumed all of the circuit impedences are known before hand. \n",
    "\n",
    "To compute the full power flow within an AC circuit requires knowing four complex unkowns: the impedence (resistance and reactance), voltage (magnitude and angle), current (magnitude and angle), and power (real and reactive). We can assume we know all circuit impedences before hand, reducing the equation to three complex unkowns. Based on the information we have from each bus element, which is combinations of voltage and power, we can calculate the power flow through the entire circuit. \n",
    "\n",
    "There are three types of bus elements:\n",
    "1. **Load Bus**: real $P$ and reactive $Q$ power are known when consuming electricity\n",
    "1. **Generator Bus**: real power $P$ and voltage magnitude $V$ are known when producing electricity\n",
    "1. **Slack Bus**: voltage magnitude $V$ and angle $\\theta$ are known when balancing the system with generation. Need at least one slack bus to enable power flow analysis.\n",
    "\n",
    "Several algorithms exist. Gauss-Seidel, Newton-Raphson (MATLAB Simscape)\n",
    "\n",
    "\n",
    "Pandapower describes the optimal power flow [optimization problem](https://pandapower.readthedocs.io/en/latest/opf/formulation.html), with various potential costs to be optimized. We will use this for classical power flow equations, although potentially faster implementations exist with Matlab and Julia. \n",
    "\n"
   ]
  }
 ],
 "metadata": {
  "language_info": {
   "name": "python"
  }
 },
 "nbformat": 4,
 "nbformat_minor": 2
}
