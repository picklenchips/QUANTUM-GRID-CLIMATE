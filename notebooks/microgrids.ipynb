{
 "cells": [
  {
   "cell_type": "markdown",
   "metadata": {},
   "source": [
    "## Microgrid Formation\n",
    "\n",
    "In the modern grid, the line between consumer and producer is blurred due to consumers that have distributed generation and storage resources, so to graph an electrical grid we will call the nodes **prosumers**. Some areas with a significant amount of local distributed resources are able to be self-sufficient, and it can be in their interest to form a **microgrid** that is managed independently from the central grid.\n",
    "\n",
    "We want to identify $K$ self-sufficient microgrid communities indexed by $l$. In order to do so, we must both maximize *modularity*, the degree to which microgrids are more connected to themselves than to other microgrids, and *self-reliance*, how well supply matches demand within all microgrids. In addition to these, we must find an optimal number of communities $K$, and so, we can turn this optimization problem into a QUBO model with $K\\cdot|V|$ binary bariables $x_{i,l}$ that signifies node $i$ belonging to community $l$. \n",
    "\n",
    "The following derivation is found in [Community Detection in Electrical Grids Using Quantum Annealing (2021)](https://arxiv.org/abs/2112.08300) and formulated in section 3 of [Quantum Optimization for the Future Energy Grid: Summary and Quantum Utility Prospects (2024)](https://arxiv.org/abs/2403.17495).\n",
    "\n",
    "\n",
    "The modularity of a network is defined as\n",
    "\n",
    "$$\\mathcal{M} = \\frac1{2m} \\sum_{i,j} \\left(A_{ij}-\\frac{k_ik_j}{2m}\\right) \\sum_l x_{i,l}x_{j,l}$$\n",
    "where $A_{ij}$ is adjacency matrix, $k_i=\\sum_j A_{ij}$ is the sum of all edge weights from node $i$, $m=\\frac12 \\sum_i k_i=\\frac12 \\sum_i\\sum_j A_{ij}=\\sum_{i\\neq j} A_{ij}$ is the sum of all edge weights.\n",
    "\n",
    "The weights $A_{ij}$ are computed based on load and production to form microgrids. Each node has a \"power consumption value\" $p_i$ signifying how much power it produces to (+) or consumes from (-) the grid.\n",
    "\n",
    "To optimize self-sufficiency, we want the sum of the power produced and consumed to be equal: \n",
    "$$\\min_x \\frac{\\lambda}{\\mathcal{P}}\\sum_l\\left(p_i x_{i,l}\\right)^2$$\n",
    "where each node $x_{i,l}$ is weighted by its \"power consumption value\" $p_i$ signifying how much power it produces to (+) or consumes from (-) the grid. \n",
    "\n",
    "The problem involves  $K$, we can classically apply the [Leiden algorithm](https://www.ncbi.nlm.nih.gov/pmc/articles/PMC6435756/) to partition the network into microgrids. This is an NP-hard algorithm that runs in exponential time. We can instead encode the problem \n",
    "When formulating this problem on a quantum computer using QUBO, we can optimize on all nodes directly. \n",
    "Alternatively, we can optimize the entire grid using a binary-greedy method. \n",
    "\n",
    "To do this, we continuously partition the grid into $K=2$ groups. This allows us to use just a single binary variable for each node $x_{i}$ representing one of two groups, and reduce the sum over $l$ in $\\mathcal{M}$."
   ]
  },
  {
   "cell_type": "code",
   "execution_count": null,
   "metadata": {
    "vscode": {
     "languageId": "plaintext"
    }
   },
   "outputs": [],
   "source": []
  }
 ],
 "metadata": {
  "language_info": {
   "name": "python"
  }
 },
 "nbformat": 4,
 "nbformat_minor": 2
}
