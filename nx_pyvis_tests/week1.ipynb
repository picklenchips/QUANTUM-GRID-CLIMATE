{
 "cells": [
  {
   "cell_type": "code",
   "execution_count": 17,
   "metadata": {},
   "outputs": [],
   "source": [
    "import matplotlib as mpl\n",
    "import matplotlib.pyplot as plt\n",
    "import numpy as np\n",
    "import networkx as nx\n",
    "from pyvis.network import Network\n",
    "import pandas as pd\n",
    "import os, sys"
   ]
  },
  {
   "cell_type": "markdown",
   "metadata": {},
   "source": [
    "Here we will develop the `ElectricalGrid()` graph object and fully visualize it!\n",
    "I'm envisioning\n",
    "- different symbols for various types of nodes:\n",
    "  - solar, wind, hydro, nuclear, battery storage, \n",
    "    consumer vs. corporation, distributed system\n",
    "- color / bound microgrids together?\n",
    "- add a map of the city to the background?\n",
    "- color code the edges based on how much voltage?\n",
    "- would be insane if we could visualize a live simulation of the grid, as it runs...\n",
    "\n",
    "## Creating the Grid Thing\n",
    "We will use `networkx` for the graph construction and running basic graph optimization algorithms. All networkx algorithms are listed [here](https://networkx.org/documentation/stable/reference/algorithms/index.html)."
   ]
  },
  {
   "cell_type": "code",
   "execution_count": 18,
   "metadata": {},
   "outputs": [
    {
     "name": "stdout",
     "output_type": "stream",
     "text": [
      "(1, 2)\n",
      "(2, 3)\n",
      "{'voltage': 10}\n",
      "10\n",
      "(1, 2) {'voltage': 10}\n",
      "(2, 3) {'voltage': 20}\n",
      "(1, 2, 10)\n",
      "(2, 3, 20)\n"
     ]
    },
    {
     "data": {
      "image/png": "[encoded data removed]",
      "text/plain": [
       "<Figure size 640x480 with 1 Axes>"
      ]
     },
     "metadata": {},
     "output_type": "display_data"
    }
   ],
   "source": [
    "\n",
    "G = nx.Graph()\n",
    "\n",
    "class Node:\n",
    "    # a node representing an electrical grid component\n",
    "    # and a vertex on the graph\n",
    "    def __init__(self, id, type):\n",
    "        self.id = id\n",
    "        # consumer, producer, etc.?\n",
    "        self.type = type\n",
    "        # voltage?\n",
    "        self.voltage = 0.0\n",
    "\n",
    "    def __str__(self) -> str:\n",
    "        return f\"Node {self.id} of type {self.type}\"\n",
    "    \n",
    "    def __hash__(self) -> int:\n",
    "        return self.id\n",
    "\n",
    "nodes = [(1, {'type': 'solar'}), (2, {'type': 'wind'}), (3, {'type': 'hydro'})]\n",
    "edges = [(1, 2, {'voltage': 10}), (2, 3, {'voltage': 20})]\n",
    "\n",
    "G.add_nodes_from(nodes)\n",
    "G.add_edges_from(edges)\n",
    "\n",
    "# iterating through existing nx graph\n",
    "# EDGES\n",
    "for e in list(G.edges):\n",
    "    print(e)\n",
    "    pass\n",
    "edge = G.edges[1,2]  # is of type datadict\n",
    "print(edge)\n",
    "print(edge['voltage'])\n",
    "for e, datadict in G.edges.items():\n",
    "    # can also use G.edges.values() to get just datadicts\n",
    "    print(e, datadict)\n",
    "    pass\n",
    "for datadict in G.edges.values():\n",
    "    pass\n",
    "# specific attribute iteration\n",
    "for voltage in G.edges.data('voltage'):\n",
    "    print(voltage)\n",
    "    pass\n",
    "\n",
    "\n",
    "nx.draw(G, with_labels=True)\n",
    "plt.show()"
   ]
  },
  {
   "cell_type": "markdown",
   "metadata": {},
   "source": [
    "## Visualizing the Grid\n",
    "We will use `pyvis` for graph creation. We will need to pass some additional data to make a custom (basic) visualizer here. I'm following the basic [PyVis tutorial](https://pyvis.readthedocs.io/en/latest/tutorial.html).\n",
    "\n",
    "For some reason I can't get Jupyter to render the html in-line... is there another module needed to install?\n",
    "\n",
    "As a work-around, I downloaded Live Server for VSCode and you can pop open the html on your browser straight from VSCode."
   ]
  },
  {
   "cell_type": "code",
   "execution_count": null,
   "metadata": {},
   "outputs": [],
   "source": [
    "nt = Network(notebook=True, cdn_resources='in_line')\n",
    "nt.from_nx(G)\n",
    "nt.show('nx.html')\n",
    "# save local PyVis visualizations to htmls directory"
   ]
  },
  {
   "cell_type": "code",
   "execution_count": null,
   "metadata": {},
   "outputs": [],
   "source": [
    "# create graph object\n",
    "net = Network(\n",
    "    notebook=True,  # for running in Jupyter, makes an IFrame\n",
    "    #while using notebook in chrome browser, to render the graph, pass additional kwarg ‘cdn_resources’ as ‘remote’ or ‘inline’\n",
    "    cdn_resources='in_line',  # use remote resources\n",
    "    select_menu=True,  # allows seletion of menu items\n",
    "    filter_menu=True,  # allows filtering of menu items\n",
    "    neighborhood_highlight=True,  # highlight neighborhood of selected node\n",
    "    height='750px',  # set height of canvas\n",
    "    width='100%',  # set width of canvas\n",
    "    #bgcolor='#222222',  # set background color of canvas to dark grey\n",
    "    #font_color='white',  # set font color of canvas\n",
    "    heading='My Network',  # set title of canvas\n",
    "    directed=False,  # set directed graph\n",
    "    )  \n",
    "# add nodes\n",
    "net.add_nodes(\n",
    "    # node ids\n",
    "    [1, 2, 3, 4, 5],  \n",
    "    # node values (store as vertices)\n",
    "    value=[10, 20, 30, 40, 50],  \n",
    "    x=[1,3,6,2,8],  # x-coordinates of nodes\n",
    "    y=[0,3,1,0,2],  # y-coordinates of nodes\n",
    "    # node labels on graph\n",
    "    label=['Node #1', 'Node #2', 'Node #3', 'Node #4', 'Node #5'],\n",
    "    # node titles (display on mouse hover)\n",
    "    # can add html rendering\n",
    "    title=['Main node', 'Just node', 'Just node', 'Just node', 'Node with self-loop'],\n",
    "    color=['#d47415', '#22b512', '#42adf5', '#4a21b0', '#e627a3']  # node colors (HEX)\n",
    ")\n",
    "# add list of edges, same as in the previous example\n",
    "net.add_edges([(1, 2), (1, 3), (2, 3), (2, 4), (3, 5), (5, 5)])\n",
    "\n",
    "# toggle physics simulation when dragging vertices to reshape grid\n",
    "net.toggle_physics(True) \n",
    "# show editable physics simulation options\n",
    "net.show_buttons(filter_=['physics'])  # show only physics simulation\n",
    "# copy paste the output from the buttons into this to finalize \n",
    "# physics options:\n",
    "# net.set_options('{\"physics\": {\"barnesHut\": {\"springLength\": 100}}}')\n",
    "setting_options = False\n",
    "if setting_options:\n",
    "    net.set_options(\"\"\"\n",
    "\n",
    "\"\"\")\n",
    "net.show('graph.html')    # save visualization in 'graph.html'"
   ]
  }
 ],
 "metadata": {
  "kernelspec": {
   "display_name": "qpowergrid",
   "language": "python",
   "name": "python3"
  },
  "language_info": {
   "codemirror_mode": {
    "name": "ipython",
    "version": 3
   },
   "file_extension": ".py",
   "mimetype": "text/x-python",
   "name": "python",
   "nbconvert_exporter": "python",
   "pygments_lexer": "ipython3",
   "version": "3.11.0"
  }
 },
 "nbformat": 4,
 "nbformat_minor": 2
}
