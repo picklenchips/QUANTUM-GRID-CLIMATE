{
 "cells": [
  {
   "cell_type": "code",
   "execution_count": 4,
   "metadata": {},
   "outputs": [],
   "source": [
    "import matplotlib as mpl\n",
    "import matplotlib.pyplot as plt\n",
    "import numpy as np\n",
    "import networkx as nx\n",
    "import pandas as pd\n",
    "import os, sys"
   ]
  },
  {
   "cell_type": "markdown",
   "metadata": {},
   "source": [
    "Here we will develop the `ElectricalGrid()` graph object and fully visualize it!\n",
    "I'm envisioning\n",
    "- different symbols for various types of nodes:\n",
    "  - solar, wind, hydro, nuclear, battery storage, \n",
    "    consumer vs. corporation, distributed system\n",
    "- edges: \n",
    "  1. transmission line\n",
    "  1. transformer\n",
    "- color / bound microgrids together?\n",
    "- add a map of the city to the background?\n",
    "- color code the edges based on how much voltage?\n",
    "- would be insane if we could visualize a live simulation of the grid, as it runs...\n",
    "\n",
    "## Modelling the Grid as a Network\n",
    "`networkx` (`nx`) offers basic graph/network construction and all of the basic graph algorithms (like Dijstra's, BFS, DFS, Max-Flow, etc.). All `nx` algorithms are listed [here](https://networkx.org/documentation/stable/reference/algorithms/index.html).\n",
    "\n",
    "Here, we can see how the edges and nodes of an `nx` graph are stored, as well as how to iterate through them. Nodes are referenced with an integer id and edges are referenced as tuples between existing nodes. Additional node or edge data is encoded in a dictionary.\n",
    "\n",
    "We can either encode a unique data object of a `Node()` or `Edge()`, and then reference the variables of this, or use the default dictionary and create a unique constructor that wraps the entire `nx` graph. "
   ]
  },
  {
   "cell_type": "code",
   "execution_count": 20,
   "metadata": {},
   "outputs": [
    {
     "name": "stdout",
     "output_type": "stream",
     "text": [
      "iterating through possible edge indexes with a list():\n",
      "(1, 2)\n",
      "(2, 4)\n",
      "{'voltage': 10} <class 'dict'>\n",
      "10\n",
      "(1, 2) {'voltage': 10}\n",
      "(2, 4) {'voltage': 20}\n",
      "1 {'type': 'solar'}\n",
      "solar\n",
      "2 {'type': 'wind'}\n",
      "wind\n",
      "3 {'type': 'hydro'}\n",
      "hydro\n",
      "4 {'type': id:4}\n",
      "Node 4 of type solar\n",
      "(1, 2, 10)\n",
      "(2, 4, 20)\n"
     ]
    },
    {
     "data": {
      "image/png": "[encoded data removed]",
      "text/plain": [
       "<Figure size 640x480 with 1 Axes>"
      ]
     },
     "metadata": {},
     "output_type": "display_data"
    }
   ],
   "source": [
    "\n",
    "G = nx.Graph()\n",
    "\n",
    "class Node:\n",
    "    # a node representing an electrical grid component\n",
    "    # and a vertex on the graph\n",
    "    def __init__(self, id, type):\n",
    "        self.id = id\n",
    "        # consumer, producer, etc.?\n",
    "        self.type = type\n",
    "        # voltage?\n",
    "        self.voltage = 0.0\n",
    "\n",
    "    def __str__(self) -> str:\n",
    "        return f\"Node {self.id} of type {self.type}\"\n",
    "    \n",
    "    def __repr__(self) -> str:\n",
    "        return f\"id:{self.id}\"\n",
    "    \n",
    "    def __hash__(self) -> int:\n",
    "        return self.id\n",
    "\n",
    "node1 = Node(4, 'solar')\n",
    "nodes = [(1, {'type': 'solar'}), (2, {'type': 'wind'}), (3, {'type': 'hydro'}), (4, {'type': node1})]\n",
    "edges = [(1, 2, {'voltage': 10}), (2, 4, {'voltage': 20})]\n",
    "\n",
    "G.add_nodes_from(nodes)\n",
    "G.add_edges_from(edges)\n",
    "\n",
    "# iterating through existing nx graph\n",
    "# EDGES\n",
    "print('iterating through possible edge indexes with a list():')\n",
    "for e in list(G.edges):\n",
    "    print(e)\n",
    "    pass\n",
    "edge = G.edges[1,2]  # is of type datadict\n",
    "print(edge, type(edge))\n",
    "print(edge['voltage'])\n",
    "for e, datadict in G.edges.items():\n",
    "    # can also use G.edges.values() to get just datadicts\n",
    "    print(e, datadict)\n",
    "    pass\n",
    "for n, datadict in G.nodes.items():\n",
    "    print(n, datadict)\n",
    "    print(datadict['type'])\n",
    "# can only iterate through edge data\n",
    "for datadict in G.edges.values():\n",
    "    pass\n",
    "# specific attribute iteration\n",
    "for voltage in G.edges.data('voltage'):\n",
    "    print(voltage)\n",
    "    pass\n",
    "\n",
    "\n",
    "nx.draw(G, with_labels=True)\n",
    "plt.show()"
   ]
  },
  {
   "cell_type": "markdown",
   "metadata": {},
   "source": [
    "## Visualizing the Grid\n",
    "We will use `pyvis` for graph creation. We will need to pass some additional data to make a custom (basic) visualizer here. I'm following the basic [PyVis tutorial](https://pyvis.readthedocs.io/en/latest/tutorial.html).\n",
    "\n",
    "For some reason I can't get Jupyter to render the html in-line, even with nbformat. As a work-around, I downloaded Live Server for VSCode and you can pop open the html on your browser straight from VSCode."
   ]
  },
  {
   "cell_type": "code",
   "execution_count": 4,
   "metadata": {},
   "outputs": [
    {
     "ename": "ModuleNotFoundError",
     "evalue": "No module named 'pyvis'",
     "output_type": "error",
     "traceback": [
      "\u001b[0;31m---------------------------------------------------------------------------\u001b[0m",
      "\u001b[0;31mModuleNotFoundError\u001b[0m                       Traceback (most recent call last)",
      "Cell \u001b[0;32mIn[4], line 1\u001b[0m\n\u001b[0;32m----> 1\u001b[0m \u001b[38;5;28;01mfrom\u001b[39;00m \u001b[38;5;21;01mpyvis\u001b[39;00m\u001b[38;5;21;01m.\u001b[39;00m\u001b[38;5;21;01mnetwork\u001b[39;00m \u001b[38;5;28;01mimport\u001b[39;00m Network\n\u001b[1;32m      3\u001b[0m nt \u001b[38;5;241m=\u001b[39m Network(notebook\u001b[38;5;241m=\u001b[39m\u001b[38;5;28;01mTrue\u001b[39;00m, cdn_resources\u001b[38;5;241m=\u001b[39m\u001b[38;5;124m'\u001b[39m\u001b[38;5;124min_line\u001b[39m\u001b[38;5;124m'\u001b[39m)\n\u001b[1;32m      4\u001b[0m nt\u001b[38;5;241m.\u001b[39mfrom_nx(G)\n",
      "\u001b[0;31mModuleNotFoundError\u001b[0m: No module named 'pyvis'"
     ]
    }
   ],
   "source": [
    "from pyvis.network import Network\n",
    "\n",
    "nt = Network(notebook=True, cdn_resources='in_line')\n",
    "nt.from_nx(G)\n",
    "nt.show('nx.html')\n",
    "# save local PyVis visualizations to htmls directory\n",
    "from IPython.display import IFrame\n",
    "\n",
    "IFrame(src='./pyvis_output.html', width=700, height=600)"
   ]
  },
  {
   "cell_type": "code",
   "execution_count": null,
   "metadata": {},
   "outputs": [],
   "source": [
    "# create graph object\n",
    "net = Network(\n",
    "    notebook=True,  # for running in Jupyter, makes an IFrame\n",
    "    #while using notebook in chrome browser, to render the graph, pass additional kwarg ‘cdn_resources’ as ‘remote’ or ‘inline’\n",
    "    cdn_resources='in_line',  # use remote resources\n",
    "    select_menu=True,  # allows seletion of menu items\n",
    "    filter_menu=True,  # allows filtering of menu items\n",
    "    neighborhood_highlight=True,  # highlight neighborhood of selected node\n",
    "    height='750px',  # set height of canvas\n",
    "    width='100%',  # set width of canvas\n",
    "    #bgcolor='#222222',  # set background color of canvas to dark grey\n",
    "    #font_color='white',  # set font color of canvas\n",
    "    heading='My Network',  # set title of canvas\n",
    "    directed=False,  # set directed graph\n",
    "    )  \n",
    "# add nodes\n",
    "net.add_nodes(\n",
    "    # node ids\n",
    "    [1, 2, 3, 4, 5], \n",
    "    # node values (store as vertices)\n",
    "    value=[10, 20, 30, 40, 50], \n",
    "    x=[1,3,6,2,8],  # x-coordinates of nodes\n",
    "    y=[0,3,1,0,2],  # y-coordinates of nodes\n",
    "    # node labels on graph\n",
    "    label=['Node #1', 'Node #2', 'Node #3', 'Node #4', 'Node #5'],\n",
    "    # node titles (display on mouse hover)\n",
    "    # can add html rendering\n",
    "    title=['Main node', 'Just node', 'Just node', 'Just node', 'Node with self-loop'],\n",
    "    color=['#d47415', '#22b512', '#42adf5', '#4a21b0', '#e627a3']  # node colors (HEX)\n",
    ")\n",
    "# add list of edges, same as in the previous example\n",
    "net.add_edges([(1, 2), (1, 3), (2, 3), (2, 4), (3, 5), (5, 5)])\n",
    "\n",
    "# toggle physics simulation when dragging vertices to reshape grid\n",
    "net.toggle_physics(True) \n",
    "# show editable physics simulation options\n",
    "net.show_buttons(filter_=['physics'])  # show only physics simulation\n",
    "# copy paste the output from the buttons into this to finalize \n",
    "# physics options:\n",
    "# net.set_options('{\"physics\": {\"barnesHut\": {\"springLength\": 100}}}')\n",
    "setting_options = False\n",
    "if setting_options:\n",
    "    net.set_options(\"\"\"\n",
    "\n",
    "\"\"\")\n",
    "net.show('graph.html')    # save visualization in 'graph.html'"
   ]
  }
 ],
 "metadata": {
  "kernelspec": {
   "display_name": "qpowergrid",
   "language": "python",
   "name": "python3"
  },
  "language_info": {
   "codemirror_mode": {
    "name": "ipython",
    "version": 3
   },
   "file_extension": ".py",
   "mimetype": "text/x-python",
   "name": "python",
   "nbconvert_exporter": "python",
   "pygments_lexer": "ipython3",
   "version": "3.11.0"
  }
 },
 "nbformat": 4,
 "nbformat_minor": 2
}
