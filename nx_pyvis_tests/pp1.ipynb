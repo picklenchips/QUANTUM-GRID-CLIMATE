{
 "cells": [
  {
   "cell_type": "markdown",
   "metadata": {},
   "source": [
    "## Pandapower\n",
    "\n",
    "Most extensive Python pacakge formulation of electrical power systems. `pandapipes` also models heat and gas energy flows. Can implement any electrical grid topologies. Can group nodes to represent microgrids. Can model busses that interact with an \"external grid\" for slack electricity.\n",
    "\n",
    "Convert from pandapower to [PostgreSQL](https://pandapower.readthedocs.io/en/stable/file_io.html) with its built-in functions.\n"
   ]
  },
  {
   "cell_type": "code",
   "execution_count": 5,
   "metadata": {},
   "outputs": [
    {
     "name": "stdout",
     "output_type": "stream",
     "text": [
      "\u001b[1m============================= test session starts ==============================\u001b[0m\n",
      "platform darwin -- Python 3.12.4, pytest-8.3.1, pluggy-1.5.0\n",
      "rootdir: /opt/miniconda3/envs/ppower/lib/python3.12/site-packages/pandapower/test\n",
      "collected 1046 items\n",
      "\n",
      "../../../../../../../opt/miniconda3/envs/ppower/lib/python3.12/site-packages/pandapower/test/api/test_auxiliary.py \u001b[32m.\u001b[0m\u001b[32m.\u001b[0m\u001b[31mF\u001b[0m\n",
      "\n",
      "=================================== FAILURES ===================================\n",
      "\u001b[31m\u001b[1m______________________________ test_memory_leaks _______________________________\u001b[0m\n",
      "\n",
      "    \u001b[0m\u001b[94mdef\u001b[39;49;00m \u001b[92mtest_memory_leaks\u001b[39;49;00m():\u001b[90m\u001b[39;49;00m\n",
      "        net = pp.networks.example_simple()\u001b[90m\u001b[39;49;00m\n",
      "    \u001b[90m\u001b[39;49;00m\n",
      "        \u001b[90m# first, test to check that there are no memory leaks\u001b[39;49;00m\u001b[90m\u001b[39;49;00m\n",
      "        types_dict1 = pp.get_gc_objects_dict()\u001b[90m\u001b[39;49;00m\n",
      "        num = \u001b[94m3\u001b[39;49;00m\u001b[90m\u001b[39;49;00m\n",
      "        \u001b[94mfor\u001b[39;49;00m _ \u001b[95min\u001b[39;49;00m \u001b[96mrange\u001b[39;49;00m(num):\u001b[90m\u001b[39;49;00m\n",
      "            net_copy = copy.deepcopy(net)\u001b[90m\u001b[39;49;00m\n",
      "            \u001b[90m# In each net copy it has only one controller\u001b[39;49;00m\u001b[90m\u001b[39;49;00m\n",
      "            pp.control.ContinuousTapControl(net_copy, tid=\u001b[94m0\u001b[39;49;00m, vm_set_pu=\u001b[94m1\u001b[39;49;00m)\u001b[90m\u001b[39;49;00m\n",
      "    \u001b[90m\u001b[39;49;00m\n",
      "        gc.collect()\u001b[90m\u001b[39;49;00m\n",
      "    \u001b[90m\u001b[39;49;00m\n",
      "        types_dict2 = pp.get_gc_objects_dict()\u001b[90m\u001b[39;49;00m\n",
      "    \u001b[90m\u001b[39;49;00m\n",
      ">       \u001b[94massert\u001b[39;49;00m types_dict2[pandapower.auxiliary.pandapowerNet] - types_dict1[pandapower.auxiliary.pandapowerNet] == \u001b[94m1\u001b[39;49;00m\u001b[90m\u001b[39;49;00m\n",
      "\u001b[1m\u001b[31mE       assert (9 - 10) == 1\u001b[0m\n",
      "\n",
      "\u001b[1m\u001b[31m/opt/miniconda3/envs/ppower/lib/python3.12/site-packages/pandapower/test/api/test_auxiliary.py\u001b[0m:134: AssertionError\n",
      "\u001b[33m=============================== warnings summary ===============================\u001b[0m\n",
      "../../../../../../../opt/miniconda3/envs/ppower/lib/python3.12/site-packages/pandapower/test/api/input_files/test_control.py:16\n",
      "  /opt/miniconda3/envs/ppower/lib/python3.12/site-packages/pandapower/test/api/input_files/test_control.py:16: PytestCollectionWarning: cannot collect test class 'TestControl' because it has a __init__ constructor (from: api/input_files/test_control.py)\n",
      "    class TestControl(ConstController):\n",
      "\n",
      "-- Docs: https://docs.pytest.org/en/stable/how-to/capture-warnings.html\n",
      "\u001b[36m\u001b[1m=========================== short test summary info ============================\u001b[0m\n",
      "\u001b[31mFAILED\u001b[0m ../../../../../../../opt/miniconda3/envs/ppower/lib/python3.12/site-packages/pandapower/test/api/test_auxiliary.py::\u001b[1mtest_memory_leaks\u001b[0m - assert (9 - 10) == 1\n",
      "\u001b[31m!!!!!!!!!!!!!!!!!!!!!!!!!! stopping after 1 failures !!!!!!!!!!!!!!!!!!!!!!!!!!!\u001b[0m\n",
      "\u001b[31m==================== \u001b[31m\u001b[1m1 failed\u001b[0m, \u001b[32m2 passed\u001b[0m, \u001b[33m1 warning\u001b[0m\u001b[31m in 0.29s\u001b[0m\u001b[31m ====================\u001b[0m\n"
     ]
    }
   ],
   "source": [
    "import pandapower as pp\n",
    "import pandapower.networks\n",
    "import pandapower.topology\n",
    "import pandapower.plotting\n",
    "import pandapower.converter\n",
    "import pandapower.estimation\n",
    "import pandapower.test\n",
    "pandapower.test.run_all_tests()"
   ]
  },
  {
   "cell_type": "markdown",
   "metadata": {},
   "source": []
  },
  {
   "cell_type": "code",
   "execution_count": 9,
   "metadata": {},
   "outputs": [
    {
     "name": "stderr",
     "output_type": "stream",
     "text": [
      "numba cannot be imported and numba functions are disabled.\n",
      "Probably the execution is slow.\n",
      "Please install numba to gain a massive speedup.\n",
      "(or if you prefer slow execution, set the flag numba=False to avoid this warning!)\n"
     ]
    }
   ],
   "source": [
    "\n",
    "net = pp.create_empty_network()\n",
    "\n",
    "pp.create_bus(net, name = \"110 kV bar\", vn_kv = 110, type = 'b')\n",
    "pp.create_bus(net, name = \"20 kV bar\", vn_kv = 20, type = 'b')\n",
    "pp.create_bus(net, name = \"bus 2\", vn_kv = 20, type = 'b')\n",
    "pp.create_bus(net, name = \"bus 3\", vn_kv = 20, type = 'b')\n",
    "pp.create_bus(net, name = \"bus 4\", vn_kv = 20, type = 'b')\n",
    "pp.create_bus(net, name = \"bus 5\", vn_kv = 20, type = 'b')\n",
    "pp.create_bus(net, name = \"bus 6\", vn_kv = 20, type = 'b')\n",
    "\n",
    "pp.create_ext_grid(net, 0, vm_pu = 1)\n",
    "\n",
    "pp.create_line(net, name = \"line 0\", from_bus = 1, to_bus = 2, length_km = 1, std_type = \"NAYY 4x150 SE\")\n",
    "pp.create_line(net, name = \"line 1\", from_bus = 2, to_bus = 3, length_km = 1, std_type = \"NAYY 4x150 SE\")\n",
    "pp.create_line(net, name = \"line 2\", from_bus = 3, to_bus = 4, length_km = 1, std_type = \"NAYY 4x150 SE\")\n",
    "pp.create_line(net, name = \"line 3\", from_bus = 4, to_bus = 5, length_km = 1, std_type = \"NAYY 4x150 SE\")\n",
    "pp.create_line(net, name = \"line 4\", from_bus = 5, to_bus = 6, length_km = 1, std_type = \"NAYY 4x150 SE\")\n",
    "pp.create_line(net, name = \"line 5\", from_bus = 6, to_bus = 1, length_km = 1, std_type = \"NAYY 4x150 SE\")\n",
    "\n",
    "pp.create_transformer_from_parameters(net, hv_bus=0, lv_bus=1, i0_percent=0.038, pfe_kw=11.6,\n",
    "        vkr_percent=0.322, sn_mva=40, vn_lv_kv=22.0, vn_hv_kv=110.0, vk_percent=17.8)\n",
    "\n",
    "pp.create_load(net, 2, p_mw = 1, q_mvar = 0.2, name = \"load 0\")\n",
    "pp.create_load(net, 3, p_mw = 1, q_mvar = 0.2, name = \"load 1\")\n",
    "pp.create_load(net, 4, p_mw = 1, q_mvar = 0.2, name = \"load 2\")\n",
    "pp.create_load(net, 5, p_mw = 1, q_mvar = 0.2, name = \"load 3\")\n",
    "pp.create_load(net, 6, p_mw = 1, q_mvar = 0.2, name = \"load 4\")\n",
    "\n",
    "pp.create_switch(net, bus = 1, element = 0, et = 'l')\n",
    "pp.create_switch(net, bus = 2, element = 0, et = 'l')\n",
    "pp.create_switch(net, bus = 2, element = 1, et = 'l')\n",
    "pp.create_switch(net, bus = 3, element = 1, et = 'l')\n",
    "pp.create_switch(net, bus = 3, element = 2, et = 'l')\n",
    "pp.create_switch(net, bus = 4, element = 2, et = 'l')\n",
    "pp.create_switch(net, bus = 4, element = 3, et = 'l', closed = False)\n",
    "pp.create_switch(net, bus = 5, element = 3, et = 'l')\n",
    "pp.create_switch(net, bus = 5, element = 4, et = 'l')\n",
    "pp.create_switch(net, bus = 6, element = 4, et = 'l')\n",
    "pp.create_switch(net, bus = 6, element = 5, et = 'l')\n",
    "pp.create_switch(net, bus = 1, element = 5, et = 'l')\n",
    "\n",
    "pp.runpp(net)"
   ]
  },
  {
   "cell_type": "code",
   "execution_count": 15,
   "metadata": {},
   "outputs": [
    {
     "name": "stdout",
     "output_type": "stream",
     "text": [
      "MultiGraph with 7 nodes and 6 edges\n"
     ]
    },
    {
     "data": {
      "image/png": "[encoded data removed]",
      "text/plain": [
       "<Figure size 640x480 with 1 Axes>"
      ]
     },
     "metadata": {},
     "output_type": "display_data"
    }
   ],
   "source": [
    "import pandapower.topology as top\n",
    "import networkx as nx\n",
    "import matplotlib.pyplot as plt\n",
    "mg = top.create_nxgraph(net)\n",
    "nx.draw(mg, with_labels=True)\n",
    "print(mg)"
   ]
  },
  {
   "cell_type": "code",
   "execution_count": null,
   "metadata": {},
   "outputs": [],
   "source": [
    "import numpy as np\n",
    "import plotly\n",
    "import pandapower.networks\n",
    "\n",
    "netv = pandapower.networks.example_multivoltage()\n",
    "\n",
    "from pandapower.plotting.plotly import simple_plotly, pf_res_plotly, vlevel_plotly\n",
    "\n",
    "simple_plotly(net)"
   ]
  },
  {
   "cell_type": "markdown",
   "metadata": {},
   "source": []
  }
 ],
 "metadata": {
  "kernelspec": {
   "display_name": "qpowergrid",
   "language": "python",
   "name": "python3"
  },
  "language_info": {
   "codemirror_mode": {
    "name": "ipython",
    "version": 3
   },
   "file_extension": ".py",
   "mimetype": "text/x-python",
   "name": "python",
   "nbconvert_exporter": "python",
   "pygments_lexer": "ipython3",
   "version": "3.12.4"
  }
 },
 "nbformat": 4,
 "nbformat_minor": 2
}
